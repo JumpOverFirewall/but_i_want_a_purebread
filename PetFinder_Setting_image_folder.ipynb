{
 "cells": [
  {
   "cell_type": "code",
   "execution_count": 118,
   "metadata": {},
   "outputs": [],
   "source": [
    "%matplotlib inline\n",
    "%config InlineBackend.figure_format = 'retina'\n",
    "\n",
    "# imports kaggle library\n",
    "import os\n",
    "import cv2\n",
    "import shutil\n",
    "# Imports common Python library\n",
    "import pandas as pd\n",
    "import numpy as np\n",
    "import matplotlib.pyplot as plt\n",
    "import seaborn as sns\n",
    "import time\n",
    "\n",
    "# Imports pytorch\n",
    "import torch\n",
    "from torch import nn # import neural network\n",
    "from torch import optim # import optimization\n",
    "import torch.nn.functional as F\n",
    "from torchvision import datasets, transforms, models\n",
    "from collections import OrderedDict\n",
    "\n",
    "# Imports other python file for using fuctions\n",
    "import json\n",
    "\n",
    "# import the Image library\n",
    "from PIL import Image\n"
   ]
  },
  {
   "cell_type": "code",
   "execution_count": 119,
   "metadata": {},
   "outputs": [],
   "source": [
    "data_dir = 'input'\n",
    "train_img = data_dir + '/train_images'"
   ]
  },
  {
   "cell_type": "code",
   "execution_count": 120,
   "metadata": {},
   "outputs": [],
   "source": [
    "train_df = pd.read_csv(data_dir + '/train.csv')"
   ]
  },
  {
   "cell_type": "code",
   "execution_count": 121,
   "metadata": {},
   "outputs": [],
   "source": [
    "name_target_dict = train_df.set_index('PetID')['AdoptionSpeed'].to_dict()\n",
    "train_image_names = os.listdir('./input/train_images')"
   ]
  },
  {
   "cell_type": "code",
   "execution_count": 122,
   "metadata": {},
   "outputs": [
    {
     "data": {
      "text/html": [
       "<div>\n",
       "<style scoped>\n",
       "    .dataframe tbody tr th:only-of-type {\n",
       "        vertical-align: middle;\n",
       "    }\n",
       "\n",
       "    .dataframe tbody tr th {\n",
       "        vertical-align: top;\n",
       "    }\n",
       "\n",
       "    .dataframe thead th {\n",
       "        text-align: right;\n",
       "    }\n",
       "</style>\n",
       "<table border=\"1\" class=\"dataframe\">\n",
       "  <thead>\n",
       "    <tr style=\"text-align: right;\">\n",
       "      <th></th>\n",
       "      <th>filename</th>\n",
       "      <th>image_class</th>\n",
       "      <th>input_dir</th>\n",
       "    </tr>\n",
       "  </thead>\n",
       "  <tbody>\n",
       "    <tr>\n",
       "      <th>0</th>\n",
       "      <td>2d725d001-3.jpg</td>\n",
       "      <td>1</td>\n",
       "      <td>input/train_images/2d725d001-3.jpg</td>\n",
       "    </tr>\n",
       "    <tr>\n",
       "      <th>1</th>\n",
       "      <td>bf9bd91e1-1.jpg</td>\n",
       "      <td>4</td>\n",
       "      <td>input/train_images/bf9bd91e1-1.jpg</td>\n",
       "    </tr>\n",
       "    <tr>\n",
       "      <th>2</th>\n",
       "      <td>9cb525274-3.jpg</td>\n",
       "      <td>2</td>\n",
       "      <td>input/train_images/9cb525274-3.jpg</td>\n",
       "    </tr>\n",
       "    <tr>\n",
       "      <th>3</th>\n",
       "      <td>16ffedcf8-7.jpg</td>\n",
       "      <td>3</td>\n",
       "      <td>input/train_images/16ffedcf8-7.jpg</td>\n",
       "    </tr>\n",
       "    <tr>\n",
       "      <th>4</th>\n",
       "      <td>a63364c39-1.jpg</td>\n",
       "      <td>1</td>\n",
       "      <td>input/train_images/a63364c39-1.jpg</td>\n",
       "    </tr>\n",
       "  </tbody>\n",
       "</table>\n",
       "</div>"
      ],
      "text/plain": [
       "          filename  image_class                           input_dir\n",
       "0  2d725d001-3.jpg            1  input/train_images/2d725d001-3.jpg\n",
       "1  bf9bd91e1-1.jpg            4  input/train_images/bf9bd91e1-1.jpg\n",
       "2  9cb525274-3.jpg            2  input/train_images/9cb525274-3.jpg\n",
       "3  16ffedcf8-7.jpg            3  input/train_images/16ffedcf8-7.jpg\n",
       "4  a63364c39-1.jpg            1  input/train_images/a63364c39-1.jpg"
      ]
     },
     "execution_count": 122,
     "metadata": {},
     "output_type": "execute_result"
    }
   ],
   "source": [
    "# create image class for train images\n",
    "label_dict = {'filename': [], 'image_class': []}\n",
    "\n",
    "for name in train_image_names:\n",
    "    short_name = name.split('-')[0]\n",
    "    label = name_target_dict[short_name]\n",
    "    \n",
    "    label_dict['filename'].append(name)\n",
    "    label_dict['image_class'].append(label)\n",
    "\n",
    "train_df_label = pd.DataFrame(label_dict)\n",
    "train_df_label['input_dir'] = train_img + '/' + train_df_label['filename']\n",
    "train_df_label.head()"
   ]
  },
  {
   "cell_type": "code",
   "execution_count": 131,
   "metadata": {},
   "outputs": [],
   "source": [
    "## create training and validation split \n",
    "split = int(0.8 * len(train_df_label))\n",
    "\n",
    "# move images to train folders with class name\n",
    "for i in range(split):\n",
    "    output = os.getcwd() + '/input/train/' + str(train_df_label['image_class'][i]) \n",
    "    shutil.copy(train_df_label['input_dir'][i], output)\n",
    "    \n",
    "# move images to test valid folders with class name\n",
    "for i in range(split, len(train_df_label)):\n",
    "    output = os.getcwd() + '/input/valid/' + str(train_df_label['image_class'][i]) \n",
    "    shutil.copy(train_df_label['input_dir'][i], output)\n",
    " "
   ]
  },
  {
   "cell_type": "code",
   "execution_count": null,
   "metadata": {},
   "outputs": [],
   "source": []
  }
 ],
 "metadata": {
  "kernelspec": {
   "display_name": "Python 3",
   "language": "python",
   "name": "python3"
  },
  "language_info": {
   "codemirror_mode": {
    "name": "ipython",
    "version": 3
   },
   "file_extension": ".py",
   "mimetype": "text/x-python",
   "name": "python",
   "nbconvert_exporter": "python",
   "pygments_lexer": "ipython3",
   "version": "3.7.1"
  }
 },
 "nbformat": 4,
 "nbformat_minor": 2
}
